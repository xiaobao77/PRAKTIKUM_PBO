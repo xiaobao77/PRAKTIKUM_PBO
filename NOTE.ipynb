{
  "nbformat": 4,
  "nbformat_minor": 0,
  "metadata": {
    "colab": {
      "provenance": [],
      "authorship_tag": "ABX9TyO9on71mYtz2g+q+dJc55Ff",
      "include_colab_link": true
    },
    "kernelspec": {
      "name": "python3",
      "display_name": "Python 3"
    },
    "language_info": {
      "name": "python"
    }
  },
  "cells": [
    {
      "cell_type": "markdown",
      "metadata": {
        "id": "view-in-github",
        "colab_type": "text"
      },
      "source": [
        "<a href=\"https://colab.research.google.com/github/xiaobao77/PRAKTIKUM_PBO/blob/main/NOTE.ipynb\" target=\"_parent\"><img src=\"https://colab.research.google.com/assets/colab-badge.svg\" alt=\"Open In Colab\"/></a>"
      ]
    },
    {
      "cell_type": "markdown",
      "source": [
        "Praktikum pemrograman berorientasi objek\n",
        "Metode\n",
        "Metode adalah fungsi yang didefinisikan di dalam suatu kelas. Metode menggambarkan operasi yang dapat dilakukan oleh suatu objek.\n",
        "\n",
        "#mendefinisikan kelas segitiga Untuk memahami konsep pemrograman berorintasi objek perlu dipelajari beberapa konsep yakni\n",
        "\n",
        "1. Pewarisan\n",
        "Proses pendefinisian kelas baru yang diturunkan dari kelas lain yang sudah ada. Melalui proses ini, kelas baru akan memiliki atau mewarisi sifat-sifat yang dimiliki oleh kelas lama. Mendefinisikan kelas Anak -> class NamaKelasAnak(NamaKelasInduk):\n",
        "\n",
        "2. Enkapsulasi\n",
        "Enkapsulasi merupakan Teknik untuk mengemas data dan methods dalam satu unit. Enkapsulasi dapat memberikan Batasan akses ke variable dan methods secara langsung. Tujuan nya untuk menghindari modifikasi data secara tidak sengaja. Dengan membuat atribut atau method tertentu tersembunyi dari luar objek. Menggunakan underscore (tanda\"_\") di awal nama method."
      ],
      "metadata": {
        "id": "pQmeqnRwb4Zf"
      }
    }
  ]
}