{
  "nbformat": 4,
  "nbformat_minor": 0,
  "metadata": {
    "colab": {
      "provenance": [],
      "authorship_tag": "ABX9TyOidrZxoCSTUw8eAmNDVw0K",
      "include_colab_link": true
    },
    "kernelspec": {
      "name": "python3",
      "display_name": "Python 3"
    },
    "language_info": {
      "name": "python"
    }
  },
  "cells": [
    {
      "cell_type": "markdown",
      "metadata": {
        "id": "view-in-github",
        "colab_type": "text"
      },
      "source": [
        "<a href=\"https://colab.research.google.com/github/xiaobao77/PRAKTIKUM_PBO/blob/main/enkapsulasi_2.ipynb\" target=\"_parent\"><img src=\"https://colab.research.google.com/assets/colab-badge.svg\" alt=\"Open In Colab\"/></a>"
      ]
    },
    {
      "cell_type": "code",
      "execution_count": 2,
      "metadata": {
        "colab": {
          "base_uri": "https://localhost:8080/"
        },
        "id": "qY9RcekjUzTO",
        "outputId": "ed6d6dc2-433d-45ed-ef20-d0be77d4ba62"
      },
      "outputs": [
        {
          "output_type": "stream",
          "name": "stdout",
          "text": [
            "800.0\n"
          ]
        }
      ],
      "source": [
        "# enkapsulasi dengan private access modifier\n",
        "class pegawai:\n",
        "    def __init__(self, nama, salary):\n",
        "        self.nama=nama\n",
        "        self.gaji=salary\n",
        "        self.__gaji_final= self.gaji - (0.2 * self.gaji)\n",
        "\n",
        "    def showGajiFinal(self):\n",
        "        return self.__gaji_final\n",
        "\n",
        "obj1=pegawai(\"Agus\", 1000)\n",
        "print(obj1.showGajiFinal())\n",
        "\n"
      ]
    }
  ]
}