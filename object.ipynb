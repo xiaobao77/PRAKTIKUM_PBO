{
  "nbformat": 4,
  "nbformat_minor": 0,
  "metadata": {
    "colab": {
      "provenance": [],
      "authorship_tag": "ABX9TyO6v5JDFBcZt3AWGJ5MfuSK",
      "include_colab_link": true
    },
    "kernelspec": {
      "name": "python3",
      "display_name": "Python 3"
    },
    "language_info": {
      "name": "python"
    }
  },
  "cells": [
    {
      "cell_type": "markdown",
      "metadata": {
        "id": "view-in-github",
        "colab_type": "text"
      },
      "source": [
        "<a href=\"https://colab.research.google.com/github/xiaobao77/PRAKTIKUM_PBO/blob/main/object.ipynb\" target=\"_parent\"><img src=\"https://colab.research.google.com/assets/colab-badge.svg\" alt=\"Open In Colab\"/></a>"
      ]
    },
    {
      "cell_type": "code",
      "execution_count": 7,
      "metadata": {
        "colab": {
          "base_uri": "https://localhost:8080/"
        },
        "id": "qY9RcekjUzTO",
        "outputId": "ebc9eb34-ab24-4931-e501-3dad31f2c008"
      },
      "outputs": [
        {
          "output_type": "stream",
          "name": "stdout",
          "text": [
            "Buddy\n",
            "Canine\n"
          ]
        }
      ],
      "source": [
        "class Dog:\n",
        "    species = \"Canine\"  # Class attribute\n",
        "\n",
        "    def __init__(self, name, age):\n",
        "        self.name = name  # Instance attribute\n",
        "        self.age = age  # Instance attribute\n",
        "\n",
        "# Creating an object of the Dog class\n",
        "dog1 = Dog(\"Buddy\", 3)\n",
        "\n",
        "print(dog1.name)\n",
        "print(dog1.species)"
      ]
    }
  ]
}